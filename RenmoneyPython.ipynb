{
  "nbformat": 4,
  "nbformat_minor": 0,
  "metadata": {
    "colab": {
      "name": "RenmoneyPython.ipynb",
      "provenance": [],
      "toc_visible": true,
      "authorship_tag": "ABX9TyNtkJXqfNg+AXLgRDr0RUYl",
      "include_colab_link": true
    },
    "kernelspec": {
      "name": "python3",
      "display_name": "Python 3"
    },
    "language_info": {
      "name": "python"
    }
  },
  "cells": [
    {
      "cell_type": "markdown",
      "metadata": {
        "id": "view-in-github",
        "colab_type": "text"
      },
      "source": [
        "<a href=\"https://colab.research.google.com/github/opethaiwoh/Data-Analysis-with-Python/blob/main/RenmoneyPython.ipynb\" target=\"_parent\"><img src=\"https://colab.research.google.com/assets/colab-badge.svg\" alt=\"Open In Colab\"/></a>"
      ]
    },
    {
      "cell_type": "markdown",
      "metadata": {
        "id": "tAB-e5AZ8q4f"
      },
      "source": [
        "#Step1: Define the problem and assemble a dataset\n",
        "Stated concisely our problem is the binary classification of a mushroom as edible or poisonous. We are given a dataset with 23 features including the class (edible or poisonous) of the mushroom.\n",
        "From the features listed in the data information file we can create a list of column names for our dataset."
      ]
    },
    {
      "cell_type": "code",
      "metadata": {
        "id": "6_jh9-L7qXPN"
      },
      "source": [
        "column_names = ['class',\n",
        "                'cap-shape',\n",
        "                'cap-surface',\n",
        "                'cap-color',\n",
        "                'bruises?',\n",
        "                'odor',\n",
        "                'gill-attachment',\n",
        "                'gill-spacing',\n",
        "                'gill-size',\n",
        "                'gill-color',\n",
        "                'stalk-shape',\n",
        "                'stalk-root',\n",
        "                'stalk-surface-above-ring',\n",
        "                'stalk-surface-below-ring',\n",
        "                'stalk-color-above-ring',\n",
        "                'stalk-color-below-ring',\n",
        "                'veil-type',\n",
        "                'veil-color',\n",
        "                'ring-number',\n",
        "                'ring-type',\n",
        "                'spore-print-color',\n",
        "                'population',\n",
        "                'habitat']"
      ],
      "execution_count": 5,
      "outputs": []
    },
    {
      "cell_type": "markdown",
      "metadata": {
        "id": "OSxxUjl19CMN"
      },
      "source": [
        "## import our dataset and create a Pandas DataFrame from the .data file using pd.read_csv()"
      ]
    },
    {
      "cell_type": "code",
      "metadata": {
        "id": "7D8Li3S4qldg"
      },
      "source": [
        "import pandas as pd"
      ],
      "execution_count": 6,
      "outputs": []
    },
    {
      "cell_type": "code",
      "metadata": {
        "id": "GIzD1gfK284M"
      },
      "source": [
        "url = 'https://archive.ics.uci.edu/ml/machine-learning-databases/mushroom/agaricus-lepiota.data'"
      ],
      "execution_count": 7,
      "outputs": []
    },
    {
      "cell_type": "code",
      "metadata": {
        "id": "MCTSK9J73fl7"
      },
      "source": [
        "mushrooms = pd.read_csv(url, header=None, names=column_names)"
      ],
      "execution_count": 8,
      "outputs": []
    },
    {
      "cell_type": "code",
      "metadata": {
        "id": "Xqjt--tD3is2"
      },
      "source": [
        "from sklearn.metrics import precision_score"
      ],
      "execution_count": 9,
      "outputs": []
    },
    {
      "cell_type": "markdown",
      "metadata": {
        "id": "bXIZSaP38iET"
      },
      "source": [
        "# Step 2: Choose a measure of success\n",
        "Given the nature of our problem; classifying whether or not a mushroom is poisonous or not, we will be using precision as our measure of success. Precision is the ability of the classifier not to label as edible mushrooms which are poisonous. We would much rather people discard edible mushrooms that our model classified as poisonous than eat poisonous mushrooms our classifier labeled as edible.\n"
      ]
    },
    {
      "cell_type": "code",
      "metadata": {
        "id": "ixMl6tax4Ml0"
      },
      "source": [
        "from sklearn.model_selection import train_test_split, cross_validate"
      ],
      "execution_count": 10,
      "outputs": []
    },
    {
      "cell_type": "markdown",
      "metadata": {
        "id": "VUIw1r2Y71b7"
      },
      "source": [
        "# Step 3: Decide on an evaluation protocol\n",
        "We will be using 10-fold cross validation to evaluate our model. "
      ]
    },
    {
      "cell_type": "code",
      "metadata": {
        "colab": {
          "base_uri": "https://localhost:8080/"
        },
        "id": "pobnpx8Q4UOJ",
        "outputId": "dde8d064-14ca-44b5-b4c2-4d61a6471f6f"
      },
      "source": [
        "pip install category_encoders"
      ],
      "execution_count": 13,
      "outputs": [
        {
          "output_type": "stream",
          "text": [
            "Collecting category_encoders\n",
            "\u001b[?25l  Downloading https://files.pythonhosted.org/packages/44/57/fcef41c248701ee62e8325026b90c432adea35555cbc870aff9cfba23727/category_encoders-2.2.2-py2.py3-none-any.whl (80kB)\n",
            "\r\u001b[K     |████                            | 10kB 18.4MB/s eta 0:00:01\r\u001b[K     |████████▏                       | 20kB 23.9MB/s eta 0:00:01\r\u001b[K     |████████████▏                   | 30kB 26.7MB/s eta 0:00:01\r\u001b[K     |████████████████▎               | 40kB 28.9MB/s eta 0:00:01\r\u001b[K     |████████████████████▎           | 51kB 31.9MB/s eta 0:00:01\r\u001b[K     |████████████████████████▍       | 61kB 33.7MB/s eta 0:00:01\r\u001b[K     |████████████████████████████▍   | 71kB 34.2MB/s eta 0:00:01\r\u001b[K     |████████████████████████████████| 81kB 8.6MB/s \n",
            "\u001b[?25hRequirement already satisfied: scikit-learn>=0.20.0 in /usr/local/lib/python3.7/dist-packages (from category_encoders) (0.22.2.post1)\n",
            "Requirement already satisfied: patsy>=0.5.1 in /usr/local/lib/python3.7/dist-packages (from category_encoders) (0.5.1)\n",
            "Requirement already satisfied: statsmodels>=0.9.0 in /usr/local/lib/python3.7/dist-packages (from category_encoders) (0.10.2)\n",
            "Requirement already satisfied: scipy>=1.0.0 in /usr/local/lib/python3.7/dist-packages (from category_encoders) (1.4.1)\n",
            "Requirement already satisfied: numpy>=1.14.0 in /usr/local/lib/python3.7/dist-packages (from category_encoders) (1.19.5)\n",
            "Requirement already satisfied: pandas>=0.21.1 in /usr/local/lib/python3.7/dist-packages (from category_encoders) (1.1.5)\n",
            "Requirement already satisfied: joblib>=0.11 in /usr/local/lib/python3.7/dist-packages (from scikit-learn>=0.20.0->category_encoders) (1.0.1)\n",
            "Requirement already satisfied: six in /usr/local/lib/python3.7/dist-packages (from patsy>=0.5.1->category_encoders) (1.15.0)\n",
            "Requirement already satisfied: pytz>=2017.2 in /usr/local/lib/python3.7/dist-packages (from pandas>=0.21.1->category_encoders) (2018.9)\n",
            "Requirement already satisfied: python-dateutil>=2.7.3 in /usr/local/lib/python3.7/dist-packages (from pandas>=0.21.1->category_encoders) (2.8.1)\n",
            "Installing collected packages: category-encoders\n",
            "Successfully installed category-encoders-2.2.2\n"
          ],
          "name": "stdout"
        }
      ]
    },
    {
      "cell_type": "markdown",
      "metadata": {
        "id": "WxFycWgA8Erc"
      },
      "source": [
        "## First lets split our data into a feature matrix (X), and a target vector (y). We will use OneHotEncoder to encode our categorical variables."
      ]
    },
    {
      "cell_type": "code",
      "metadata": {
        "colab": {
          "base_uri": "https://localhost:8080/"
        },
        "id": "TWH4cQq_4b7C",
        "outputId": "117e02bd-b64b-4b62-f03b-96157eb367a7"
      },
      "source": [
        "import category_encoders as ce\n",
        "#Drop target feature\n",
        "X = mushrooms.drop(columns='class') \n",
        "#Encode categorical features\n",
        "X = ce.OneHotEncoder(use_cat_names=True).fit_transform(X)\n",
        " \n",
        "y = mushrooms['class'].replace({'p':0, 'e':1})\n",
        "print('Feature matrix size:',X.shape)\n",
        "print('Target vector size:',len(y))"
      ],
      "execution_count": 14,
      "outputs": [
        {
          "output_type": "stream",
          "text": [
            "/usr/local/lib/python3.7/dist-packages/statsmodels/tools/_testing.py:19: FutureWarning: pandas.util.testing is deprecated. Use the functions in the public API at pandas.testing instead.\n",
            "  import pandas.util.testing as tm\n",
            "/usr/local/lib/python3.7/dist-packages/category_encoders/utils.py:21: FutureWarning: is_categorical is deprecated and will be removed in a future version.  Use is_categorical_dtype instead\n",
            "  elif pd.api.types.is_categorical(cols):\n"
          ],
          "name": "stderr"
        },
        {
          "output_type": "stream",
          "text": [
            "Feature matrix size: (8124, 117)\n",
            "Target vector size: 8124\n"
          ],
          "name": "stdout"
        }
      ]
    },
    {
      "cell_type": "markdown",
      "metadata": {
        "id": "YDEDDciD8RKn"
      },
      "source": [
        "## Next we will split our data into a training set and a test set."
      ]
    },
    {
      "cell_type": "code",
      "metadata": {
        "colab": {
          "base_uri": "https://localhost:8080/"
        },
        "id": "caV3h48Y5EAw",
        "outputId": "3c6c8baf-8685-4fe9-a53d-d12bce5fd283"
      },
      "source": [
        "X_train, X_test, y_train, y_test = train_test_split(X, y, random_state=42, test_size=.3, stratify=y)\n",
        "print('Training feature matrix size:',X_train.shape)\n",
        "print('Training target vector size:',y_train.shape)\n",
        "print('Test feature matrix size:',X_test.shape)\n",
        "print('Test target vector size:',y_test.shape)"
      ],
      "execution_count": 15,
      "outputs": [
        {
          "output_type": "stream",
          "text": [
            "Training feature matrix size: (5686, 117)\n",
            "Training target vector size: (5686,)\n",
            "Test feature matrix size: (2438, 117)\n",
            "Test target vector size: (2438,)\n"
          ],
          "name": "stdout"
        }
      ]
    },
    {
      "cell_type": "markdown",
      "metadata": {
        "id": "VQJ07isN7SlT"
      },
      "source": [
        "#Step 4: Prepare the data"
      ]
    },
    {
      "cell_type": "markdown",
      "metadata": {
        "id": "w9T_tBsf7D6F"
      },
      "source": [
        "## We could use .dtypes(), .columns, and .shape to examine our dataset, but Pandas provides a .info function that will allow us to view all this information in one place."
      ]
    },
    {
      "cell_type": "code",
      "metadata": {
        "colab": {
          "base_uri": "https://localhost:8080/"
        },
        "id": "CGlqXyfR6SKD",
        "outputId": "c071bd0a-2631-45e3-db20-aef6b1b233fc"
      },
      "source": [
        "print(mushrooms.info())"
      ],
      "execution_count": 16,
      "outputs": [
        {
          "output_type": "stream",
          "text": [
            "<class 'pandas.core.frame.DataFrame'>\n",
            "RangeIndex: 8124 entries, 0 to 8123\n",
            "Data columns (total 23 columns):\n",
            " #   Column                    Non-Null Count  Dtype \n",
            "---  ------                    --------------  ----- \n",
            " 0   class                     8124 non-null   object\n",
            " 1   cap-shape                 8124 non-null   object\n",
            " 2   cap-surface               8124 non-null   object\n",
            " 3   cap-color                 8124 non-null   object\n",
            " 4   bruises?                  8124 non-null   object\n",
            " 5   odor                      8124 non-null   object\n",
            " 6   gill-attachment           8124 non-null   object\n",
            " 7   gill-spacing              8124 non-null   object\n",
            " 8   gill-size                 8124 non-null   object\n",
            " 9   gill-color                8124 non-null   object\n",
            " 10  stalk-shape               8124 non-null   object\n",
            " 11  stalk-root                8124 non-null   object\n",
            " 12  stalk-surface-above-ring  8124 non-null   object\n",
            " 13  stalk-surface-below-ring  8124 non-null   object\n",
            " 14  stalk-color-above-ring    8124 non-null   object\n",
            " 15  stalk-color-below-ring    8124 non-null   object\n",
            " 16  veil-type                 8124 non-null   object\n",
            " 17  veil-color                8124 non-null   object\n",
            " 18  ring-number               8124 non-null   object\n",
            " 19  ring-type                 8124 non-null   object\n",
            " 20  spore-print-color         8124 non-null   object\n",
            " 21  population                8124 non-null   object\n",
            " 22  habitat                   8124 non-null   object\n",
            "dtypes: object(23)\n",
            "memory usage: 1.4+ MB\n",
            "None\n"
          ],
          "name": "stdout"
        }
      ]
    },
    {
      "cell_type": "markdown",
      "metadata": {
        "id": "oakAr5rH65Pj"
      },
      "source": [
        "## Checking null values and where they are in the DataFrame"
      ]
    },
    {
      "cell_type": "code",
      "metadata": {
        "colab": {
          "base_uri": "https://localhost:8080/"
        },
        "id": "rRv1wMuD7CGb",
        "outputId": "0b2fa5f7-84e7-40d5-9e2f-c9e8fefa577e"
      },
      "source": [
        "print(mushrooms.isna().sum())"
      ],
      "execution_count": 17,
      "outputs": [
        {
          "output_type": "stream",
          "text": [
            "class                       0\n",
            "cap-shape                   0\n",
            "cap-surface                 0\n",
            "cap-color                   0\n",
            "bruises?                    0\n",
            "odor                        0\n",
            "gill-attachment             0\n",
            "gill-spacing                0\n",
            "gill-size                   0\n",
            "gill-color                  0\n",
            "stalk-shape                 0\n",
            "stalk-root                  0\n",
            "stalk-surface-above-ring    0\n",
            "stalk-surface-below-ring    0\n",
            "stalk-color-above-ring      0\n",
            "stalk-color-below-ring      0\n",
            "veil-type                   0\n",
            "veil-color                  0\n",
            "ring-number                 0\n",
            "ring-type                   0\n",
            "spore-print-color           0\n",
            "population                  0\n",
            "habitat                     0\n",
            "dtype: int64\n"
          ],
          "name": "stdout"
        }
      ]
    },
    {
      "cell_type": "markdown",
      "metadata": {
        "id": "fwT7UQkP9YnX"
      },
      "source": [
        "None… that seems a bit too good to be true."
      ]
    },
    {
      "cell_type": "markdown",
      "metadata": {
        "id": "nJTWyE7V9hWR"
      },
      "source": [
        "## Since we were studious and read the dataset information file. We’re aware that all missing values are marked with a question mark. Once this is clear we can use df.replace() to convert the ? to NaNs."
      ]
    },
    {
      "cell_type": "code",
      "metadata": {
        "colab": {
          "base_uri": "https://localhost:8080/"
        },
        "id": "hSu61gyp9inL",
        "outputId": "5ddbb15d-ae8c-41bc-e23a-c0ee81b954ec"
      },
      "source": [
        "import numpy as np\n",
        "mushrooms = mushrooms.replace({'?':np.NaN})\n",
        "print(mushrooms.isna().sum())"
      ],
      "execution_count": 18,
      "outputs": [
        {
          "output_type": "stream",
          "text": [
            "class                          0\n",
            "cap-shape                      0\n",
            "cap-surface                    0\n",
            "cap-color                      0\n",
            "bruises?                       0\n",
            "odor                           0\n",
            "gill-attachment                0\n",
            "gill-spacing                   0\n",
            "gill-size                      0\n",
            "gill-color                     0\n",
            "stalk-shape                    0\n",
            "stalk-root                  2480\n",
            "stalk-surface-above-ring       0\n",
            "stalk-surface-below-ring       0\n",
            "stalk-color-above-ring         0\n",
            "stalk-color-below-ring         0\n",
            "veil-type                      0\n",
            "veil-color                     0\n",
            "ring-number                    0\n",
            "ring-type                      0\n",
            "spore-print-color              0\n",
            "population                     0\n",
            "habitat                        0\n",
            "dtype: int64\n"
          ],
          "name": "stdout"
        }
      ]
    },
    {
      "cell_type": "markdown",
      "metadata": {
        "id": "3aFN_1HQ9t_s"
      },
      "source": [
        "There we are, stalk_root has 2480 blank features, lets replace these with m for missing"
      ]
    },
    {
      "cell_type": "code",
      "metadata": {
        "colab": {
          "base_uri": "https://localhost:8080/"
        },
        "id": "0tcJ6-WR9u8Y",
        "outputId": "6ffdc4fc-1c73-415f-a206-794a745a7a6b"
      },
      "source": [
        "mushrooms['stalk-root'] = mushrooms['stalk-root'].replace(np.NaN,'m')\n",
        "print(mushrooms['stalk-root'].value_counts())"
      ],
      "execution_count": 19,
      "outputs": [
        {
          "output_type": "stream",
          "text": [
            "b    3776\n",
            "m    2480\n",
            "e    1120\n",
            "c     556\n",
            "r     192\n",
            "Name: stalk-root, dtype: int64\n"
          ],
          "name": "stdout"
        }
      ]
    },
    {
      "cell_type": "markdown",
      "metadata": {
        "id": "zjT-HBdf99Zy"
      },
      "source": [
        "# Step 5: Develop a model that does better than a baseline"
      ]
    },
    {
      "cell_type": "markdown",
      "metadata": {
        "id": "ngTuxAEz-Elh"
      },
      "source": [
        "## Baseline Model\n",
        "Using the most common label from our dataset we will create a baseline model that we hope to beat.\n",
        "First let's look at how class is distributed using df.value_counts()"
      ]
    },
    {
      "cell_type": "code",
      "metadata": {
        "colab": {
          "base_uri": "https://localhost:8080/"
        },
        "id": "ZroCVF3b-Fy4",
        "outputId": "7336feef-31eb-4353-f147-106f2c5afde4"
      },
      "source": [
        "mushrooms['class'].value_counts(normalize=True)"
      ],
      "execution_count": 20,
      "outputs": [
        {
          "output_type": "execute_result",
          "data": {
            "text/plain": [
              "e    0.517971\n",
              "p    0.482029\n",
              "Name: class, dtype: float64"
            ]
          },
          "metadata": {
            "tags": []
          },
          "execution_count": 20
        }
      ]
    },
    {
      "cell_type": "markdown",
      "metadata": {
        "id": "kZui3wEb-Net"
      },
      "source": [
        "We will use the mode of the class attribute to create our baseline prediction."
      ]
    },
    {
      "cell_type": "code",
      "metadata": {
        "id": "v9GHab97-Ojp"
      },
      "source": [
        "majority_class = y_train.mode()[0]\n",
        "baseline_predictions = [majority_class] * len(y_train)"
      ],
      "execution_count": 21,
      "outputs": []
    },
    {
      "cell_type": "markdown",
      "metadata": {
        "id": "qc60mIfT-VbS"
      },
      "source": [
        "Lets see how accurate our baseline model is."
      ]
    },
    {
      "cell_type": "code",
      "metadata": {
        "colab": {
          "base_uri": "https://localhost:8080/"
        },
        "id": "-M2vYFmN-WQG",
        "outputId": "41b0de5a-848f-453f-db15-9a1fc5f2cad8"
      },
      "source": [
        "from sklearn.metrics import accuracy_score\n",
        "majority_class_accuracy = accuracy_score(baseline_predictions,\n",
        "                                         y_train)\n",
        "print(majority_class_accuracy)"
      ],
      "execution_count": 22,
      "outputs": [
        {
          "output_type": "stream",
          "text": [
            "0.5179387970453746\n"
          ],
          "name": "stdout"
        }
      ]
    },
    {
      "cell_type": "markdown",
      "metadata": {
        "id": "geC8-BIE-iCr"
      },
      "source": [
        "## Decision Tree\n",
        "We will attempt to fit a decision tree to our training data and produce an accuracy score greater than 52%."
      ]
    },
    {
      "cell_type": "code",
      "metadata": {
        "colab": {
          "base_uri": "https://localhost:8080/",
          "height": 241
        },
        "id": "mcRELYEC-jO0",
        "outputId": "b9094db4-3f04-4c97-8354-955397987373"
      },
      "source": [
        "from sklearn.tree import DecisionTreeClassifier\n",
        "import graphviz\n",
        "from sklearn.tree import export_graphviz\n",
        "tree = DecisionTreeClassifier(max_depth=1)\n",
        "# Fit the model\n",
        "tree.fit(X_train, y_train)\n",
        "# Visualize the tree\n",
        "dot_data = export_graphviz(tree, out_file=None, feature_names=X_train.columns, class_names=['Poisonous', 'Edible'], filled=True, impurity=False, proportion=True)\n",
        "graphviz.Source(dot_data)"
      ],
      "execution_count": 23,
      "outputs": [
        {
          "output_type": "execute_result",
          "data": {
            "text/plain": [
              "<graphviz.files.Source at 0x7f1ce9828b10>"
            ],
            "image/svg+xml": "<?xml version=\"1.0\" encoding=\"UTF-8\" standalone=\"no\"?>\n<!DOCTYPE svg PUBLIC \"-//W3C//DTD SVG 1.1//EN\"\n \"http://www.w3.org/Graphics/SVG/1.1/DTD/svg11.dtd\">\n<!-- Generated by graphviz version 2.40.1 (20161225.0304)\n -->\n<!-- Title: Tree Pages: 1 -->\n<svg width=\"320pt\" height=\"165pt\"\n viewBox=\"0.00 0.00 320.00 165.00\" xmlns=\"http://www.w3.org/2000/svg\" xmlns:xlink=\"http://www.w3.org/1999/xlink\">\n<g id=\"graph0\" class=\"graph\" transform=\"scale(1 1) rotate(0) translate(4 161)\">\n<title>Tree</title>\n<polygon fill=\"#ffffff\" stroke=\"transparent\" points=\"-4,4 -4,-161 316,-161 316,4 -4,4\"/>\n<!-- 0 -->\n<g id=\"node1\" class=\"node\">\n<title>0</title>\n<polygon fill=\"#f1f8fd\" stroke=\"#000000\" points=\"229,-157 82,-157 82,-89 229,-89 229,-157\"/>\n<text text-anchor=\"middle\" x=\"155.5\" y=\"-141.8\" font-family=\"Times,serif\" font-size=\"14.00\" fill=\"#000000\">odor_n &lt;= 0.5</text>\n<text text-anchor=\"middle\" x=\"155.5\" y=\"-126.8\" font-family=\"Times,serif\" font-size=\"14.00\" fill=\"#000000\">samples = 100.0%</text>\n<text text-anchor=\"middle\" x=\"155.5\" y=\"-111.8\" font-family=\"Times,serif\" font-size=\"14.00\" fill=\"#000000\">value = [0.482, 0.518]</text>\n<text text-anchor=\"middle\" x=\"155.5\" y=\"-96.8\" font-family=\"Times,serif\" font-size=\"14.00\" fill=\"#000000\">class = Edible</text>\n</g>\n<!-- 1 -->\n<g id=\"node2\" class=\"node\">\n<title>1</title>\n<polygon fill=\"#ea9b62\" stroke=\"#000000\" points=\"147,-53 0,-53 0,0 147,0 147,-53\"/>\n<text text-anchor=\"middle\" x=\"73.5\" y=\"-37.8\" font-family=\"Times,serif\" font-size=\"14.00\" fill=\"#000000\">samples = 56.4%</text>\n<text text-anchor=\"middle\" x=\"73.5\" y=\"-22.8\" font-family=\"Times,serif\" font-size=\"14.00\" fill=\"#000000\">value = [0.827, 0.173]</text>\n<text text-anchor=\"middle\" x=\"73.5\" y=\"-7.8\" font-family=\"Times,serif\" font-size=\"14.00\" fill=\"#000000\">class = Poisonous</text>\n</g>\n<!-- 0&#45;&gt;1 -->\n<g id=\"edge1\" class=\"edge\">\n<title>0&#45;&gt;1</title>\n<path fill=\"none\" stroke=\"#000000\" d=\"M126.5899,-88.9777C118.8866,-79.9123 110.5581,-70.111 102.8324,-61.0192\"/>\n<polygon fill=\"#000000\" stroke=\"#000000\" points=\"105.3718,-58.6025 96.2293,-53.2485 100.0375,-63.1352 105.3718,-58.6025\"/>\n<text text-anchor=\"middle\" x=\"94.2051\" y=\"-74.4664\" font-family=\"Times,serif\" font-size=\"14.00\" fill=\"#000000\">True</text>\n</g>\n<!-- 2 -->\n<g id=\"node3\" class=\"node\">\n<title>2</title>\n<polygon fill=\"#40a1e6\" stroke=\"#000000\" points=\"312,-53 165,-53 165,0 312,0 312,-53\"/>\n<text text-anchor=\"middle\" x=\"238.5\" y=\"-37.8\" font-family=\"Times,serif\" font-size=\"14.00\" fill=\"#000000\">samples = 43.6%</text>\n<text text-anchor=\"middle\" x=\"238.5\" y=\"-22.8\" font-family=\"Times,serif\" font-size=\"14.00\" fill=\"#000000\">value = [0.035, 0.965]</text>\n<text text-anchor=\"middle\" x=\"238.5\" y=\"-7.8\" font-family=\"Times,serif\" font-size=\"14.00\" fill=\"#000000\">class = Edible</text>\n</g>\n<!-- 0&#45;&gt;2 -->\n<g id=\"edge2\" class=\"edge\">\n<title>0&#45;&gt;2</title>\n<path fill=\"none\" stroke=\"#000000\" d=\"M184.7627,-88.9777C192.5599,-79.9123 200.99,-70.111 208.8099,-61.0192\"/>\n<polygon fill=\"#000000\" stroke=\"#000000\" points=\"211.6262,-63.1123 215.4935,-53.2485 206.3191,-58.5477 211.6262,-63.1123\"/>\n<text text-anchor=\"middle\" x=\"217.3685\" y=\"-74.4781\" font-family=\"Times,serif\" font-size=\"14.00\" fill=\"#000000\">False</text>\n</g>\n</g>\n</svg>\n"
          },
          "metadata": {
            "tags": []
          },
          "execution_count": 23
        }
      ]
    },
    {
      "cell_type": "markdown",
      "metadata": {
        "id": "gD_GgAga-54s"
      },
      "source": [
        "Now that we have fitted the decision tree to our data we can analyze our model by looking at the prediction probability distribution for our classifier. In simple terms, prediction probability represents how sure the model is about its classification label.\n",
        "In addition to prediction probability, we will look at the precision score of our decision tree. Sklearn provides us with a simple way to see many of the relevant scores for classification models with classification_report.\n",
        "We will also generate a confusion matrix using sklearn’s confusion_matrix. A confusion matrix shows the number of true and false positives and negatives.\n",
        "Since we will be using these tools again we will write a function to run our model analysis for us."
      ]
    },
    {
      "cell_type": "code",
      "metadata": {
        "id": "qGxH9coo-6je"
      },
      "source": [
        "import matplotlib.pyplot as plt\n",
        "import seaborn as sns\n",
        "from sklearn.metrics import classification_report, confusion_matrix\n",
        "def model_analysis(model, train_X, train_y):\n",
        "  model_probabilities = model.predict_proba(train_X)\n",
        "  Model_Prediction_Probability = []\n",
        "  for _ in range(len(train_X)):\n",
        "      x = max(model_probabilities[_])\n",
        "      Model_Prediction_Probability.append(x)\n",
        "  plt.figure(figsize=(15,10)) \n",
        " \n",
        "  sns.distplot(Model_Prediction_Probability)\n",
        "  plt.title('Best Model Prediction Probabilities')\n",
        "  # Set x and y ticks\n",
        "  plt.xticks(color='gray')\n",
        "  #plt.xlim(.5,1)\n",
        "  plt.yticks(color='gray')\n",
        "  # Create axes object with plt. get current axes\n",
        "  ax = plt.gca()\n",
        "  # Set grid lines\n",
        "  ax.grid(b=True, which='major', axis='y', color='black', alpha=.2)\n",
        "  # Set facecolor\n",
        "  ax.set_facecolor('white')\n",
        "  # Remove box\n",
        "  ax.spines['top'].set_visible(False)\n",
        "  ax.spines['right'].set_visible(False)\n",
        "  ax.spines['bottom'].set_visible(False)\n",
        "  ax.spines['left'].set_visible(False)\n",
        "  ax.tick_params(color='white')\n",
        "  plt.show();\n",
        "  \n",
        "  model_predictions = model.predict(train_X)\n",
        "  # Classification Report\n",
        "  print('\\n\\n', classification_report(train_y, model_predictions, target_names=['0-Poisonous', '1-Edible']))\n",
        "  # Confusion Matrix\n",
        "  con_matrix = pd.DataFrame(confusion_matrix(train_y, model_predictions), columns=['Predicted Poison', 'Predicted Edible'], index=['Actual Poison', 'Actual Edible'])\n",
        "  \n",
        "  plt.figure(figsize=(15,10))\n",
        "  sns.heatmap(data=con_matrix, cmap='cool');\n",
        "  plt.title('Model Confusion Matrix')\n",
        "  plt.show();\n",
        "  \n",
        "  return con_matrix"
      ],
      "execution_count": 24,
      "outputs": []
    },
    {
      "cell_type": "markdown",
      "metadata": {
        "id": "nJqzlyid_Ipr"
      },
      "source": [
        "## Now to apply this function to our decision tree."
      ]
    },
    {
      "cell_type": "code",
      "metadata": {
        "colab": {
          "base_uri": "https://localhost:8080/",
          "height": 1000
        },
        "id": "WXjdhnfi_J-T",
        "outputId": "cd739b9c-4687-4c87-e019-88ce5630a063"
      },
      "source": [
        "model_analysis(tree, X_train, y_train)"
      ],
      "execution_count": 25,
      "outputs": [
        {
          "output_type": "stream",
          "text": [
            "/usr/local/lib/python3.7/dist-packages/seaborn/distributions.py:2557: FutureWarning: `distplot` is a deprecated function and will be removed in a future version. Please adapt your code to use either `displot` (a figure-level function with similar flexibility) or `histplot` (an axes-level function for histograms).\n",
            "  warnings.warn(msg, FutureWarning)\n"
          ],
          "name": "stderr"
        },
        {
          "output_type": "display_data",
          "data": {
            "image/png": "[encoded data removed]",
            "text/plain": [
              "<Figure size 1080x720 with 1 Axes>"
            ]
          },
          "metadata": {
            "tags": [],
            "needs_background": "dark"
          }
        },
        {
          "output_type": "stream",
          "text": [
            "\n",
            "\n",
            "               precision    recall  f1-score   support\n",
            "\n",
            " 0-Poisonous       0.83      0.97      0.89      2741\n",
            "    1-Edible       0.96      0.81      0.88      2945\n",
            "\n",
            "    accuracy                           0.89      5686\n",
            "   macro avg       0.90      0.89      0.89      5686\n",
            "weighted avg       0.90      0.89      0.89      5686\n",
            "\n"
          ],
          "name": "stdout"
        },
        {
          "output_type": "display_data",
          "data": {
            "image/png": "[encoded data removed]",
            "text/plain": [
              "<Figure size 1080x720 with 2 Axes>"
            ]
          },
          "metadata": {
            "tags": [],
            "needs_background": "light"
          }
        },
        {
          "output_type": "execute_result",
          "data": {
            "text/html": [
              "<div>\n",
              "<style scoped>\n",
              "    .dataframe tbody tr th:only-of-type {\n",
              "        vertical-align: middle;\n",
              "    }\n",
              "\n",
              "    .dataframe tbody tr th {\n",
              "        vertical-align: top;\n",
              "    }\n",
              "\n",
              "    .dataframe thead th {\n",
              "        text-align: right;\n",
              "    }\n",
              "</style>\n",
              "<table border=\"1\" class=\"dataframe\">\n",
              "  <thead>\n",
              "    <tr style=\"text-align: right;\">\n",
              "      <th></th>\n",
              "      <th>Predicted Poison</th>\n",
              "      <th>Predicted Edible</th>\n",
              "    </tr>\n",
              "  </thead>\n",
              "  <tbody>\n",
              "    <tr>\n",
              "      <th>Actual Poison</th>\n",
              "      <td>2653</td>\n",
              "      <td>88</td>\n",
              "    </tr>\n",
              "    <tr>\n",
              "      <th>Actual Edible</th>\n",
              "      <td>554</td>\n",
              "      <td>2391</td>\n",
              "    </tr>\n",
              "  </tbody>\n",
              "</table>\n",
              "</div>"
            ],
            "text/plain": [
              "               Predicted Poison  Predicted Edible\n",
              "Actual Poison              2653                88\n",
              "Actual Edible               554              2391"
            ]
          },
          "metadata": {
            "tags": []
          },
          "execution_count": 25
        }
      ]
    },
    {
      "cell_type": "markdown",
      "metadata": {
        "id": "hFvLAgGi_mcT"
      },
      "source": [
        "## We will store our predictions as a tree_predictions variable for use in interpreting our models accuracy."
      ]
    },
    {
      "cell_type": "code",
      "metadata": {
        "colab": {
          "base_uri": "https://localhost:8080/"
        },
        "id": "VDPsCH27_ORF",
        "outputId": "bd882840-f22d-48a8-d62f-65e2d01671a5"
      },
      "source": [
        "tree_predictions = tree.predict(X_train)\n",
        "accuracy_score(y_train, tree_predictions)"
      ],
      "execution_count": 26,
      "outputs": [
        {
          "output_type": "execute_result",
          "data": {
            "text/plain": [
              "0.887091100949701"
            ]
          },
          "metadata": {
            "tags": []
          },
          "execution_count": 26
        }
      ]
    },
    {
      "cell_type": "markdown",
      "metadata": {
        "id": "NtZDq16j_2gO"
      },
      "source": [
        "88% accuracy isn’t bad, but let's move on to the next step in our workflow."
      ]
    },
    {
      "cell_type": "markdown",
      "metadata": {
        "id": "anHq9O2v_7U6"
      },
      "source": [
        "#Step 6: Develop a model that overfits\n",
        "We will use the RandomForestClassifier for our overfitting model."
      ]
    },
    {
      "cell_type": "code",
      "metadata": {
        "colab": {
          "base_uri": "https://localhost:8080/"
        },
        "id": "0r32cuq2_wXJ",
        "outputId": "3f9ad33e-1210-4587-a21b-8252d6e6db7f"
      },
      "source": [
        "from sklearn.ensemble import RandomForestClassifier\n",
        "random_forest = RandomForestClassifier(n_estimators=100, max_depth=5)\n",
        "cv = cross_validate(estimator = random_forest, X = X_train, y = y_train, scoring='accuracy', n_jobs=-1, cv=10, verbose=10, return_train_score=True)"
      ],
      "execution_count": 27,
      "outputs": [
        {
          "output_type": "stream",
          "text": [
            "[Parallel(n_jobs=-1)]: Using backend LokyBackend with 2 concurrent workers.\n",
            "[Parallel(n_jobs=-1)]: Done   1 tasks      | elapsed:    1.8s\n",
            "[Parallel(n_jobs=-1)]: Done   4 tasks      | elapsed:    2.6s\n",
            "[Parallel(n_jobs=-1)]: Done  10 out of  10 | elapsed:    4.2s finished\n"
          ],
          "name": "stderr"
        }
      ]
    },
    {
      "cell_type": "markdown",
      "metadata": {
        "id": "XkIrH_3xAIDw"
      },
      "source": [
        "## Now we can see our random forest’s accuracy score."
      ]
    },
    {
      "cell_type": "code",
      "metadata": {
        "colab": {
          "base_uri": "https://localhost:8080/"
        },
        "id": "SQq3LnrQADzU",
        "outputId": "c6a41b92-6b8c-46f0-f643-04804f486ac3"
      },
      "source": [
        "random_forest.fit(X_test, y_test)\n",
        "test_predictions = random_forest.predict(X_train)\n",
        "accuracy_score(y_train, test_predictions)"
      ],
      "execution_count": 28,
      "outputs": [
        {
          "output_type": "execute_result",
          "data": {
            "text/plain": [
              "0.9897995075624341"
            ]
          },
          "metadata": {
            "tags": []
          },
          "execution_count": 28
        }
      ]
    },
    {
      "cell_type": "markdown",
      "metadata": {
        "id": "OV4LUGhRAQDl"
      },
      "source": [
        "## 99% accuracy looks overfitted to me.\n",
        "We can use our model_analysis function from earlier to analyze our model."
      ]
    },
    {
      "cell_type": "code",
      "metadata": {
        "colab": {
          "base_uri": "https://localhost:8080/",
          "height": 1000
        },
        "id": "aXQumZsIALXZ",
        "outputId": "76630b54-6957-4a00-ce14-ee5a617f1367"
      },
      "source": [
        "model_analysis(random_forest, X_train, y_train)"
      ],
      "execution_count": 29,
      "outputs": [
        {
          "output_type": "stream",
          "text": [
            "/usr/local/lib/python3.7/dist-packages/seaborn/distributions.py:2557: FutureWarning: `distplot` is a deprecated function and will be removed in a future version. Please adapt your code to use either `displot` (a figure-level function with similar flexibility) or `histplot` (an axes-level function for histograms).\n",
            "  warnings.warn(msg, FutureWarning)\n"
          ],
          "name": "stderr"
        },
        {
          "output_type": "display_data",
          "data": {
            "image/png": "[encoded data removed]",
            "text/plain": [
              "<Figure size 1080x720 with 1 Axes>"
            ]
          },
          "metadata": {
            "tags": [],
            "needs_background": "dark"
          }
        },
        {
          "output_type": "stream",
          "text": [
            "\n",
            "\n",
            "               precision    recall  f1-score   support\n",
            "\n",
            " 0-Poisonous       1.00      0.98      0.99      2741\n",
            "    1-Edible       0.98      1.00      0.99      2945\n",
            "\n",
            "    accuracy                           0.99      5686\n",
            "   macro avg       0.99      0.99      0.99      5686\n",
            "weighted avg       0.99      0.99      0.99      5686\n",
            "\n"
          ],
          "name": "stdout"
        },
        {
          "output_type": "display_data",
          "data": {
            "image/png": "[encoded data removed]",
            "text/plain": [
              "<Figure size 1080x720 with 2 Axes>"
            ]
          },
          "metadata": {
            "tags": [],
            "needs_background": "light"
          }
        },
        {
          "output_type": "execute_result",
          "data": {
            "text/html": [
              "<div>\n",
              "<style scoped>\n",
              "    .dataframe tbody tr th:only-of-type {\n",
              "        vertical-align: middle;\n",
              "    }\n",
              "\n",
              "    .dataframe tbody tr th {\n",
              "        vertical-align: top;\n",
              "    }\n",
              "\n",
              "    .dataframe thead th {\n",
              "        text-align: right;\n",
              "    }\n",
              "</style>\n",
              "<table border=\"1\" class=\"dataframe\">\n",
              "  <thead>\n",
              "    <tr style=\"text-align: right;\">\n",
              "      <th></th>\n",
              "      <th>Predicted Poison</th>\n",
              "      <th>Predicted Edible</th>\n",
              "    </tr>\n",
              "  </thead>\n",
              "  <tbody>\n",
              "    <tr>\n",
              "      <th>Actual Poison</th>\n",
              "      <td>2683</td>\n",
              "      <td>58</td>\n",
              "    </tr>\n",
              "    <tr>\n",
              "      <th>Actual Edible</th>\n",
              "      <td>0</td>\n",
              "      <td>2945</td>\n",
              "    </tr>\n",
              "  </tbody>\n",
              "</table>\n",
              "</div>"
            ],
            "text/plain": [
              "               Predicted Poison  Predicted Edible\n",
              "Actual Poison              2683                58\n",
              "Actual Edible                 0              2945"
            ]
          },
          "metadata": {
            "tags": []
          },
          "execution_count": 29
        }
      ]
    },
    {
      "cell_type": "markdown",
      "metadata": {
        "id": "_k1ZD2D1Ac_i"
      },
      "source": [
        "#7. Regularize the model and tune its hyperparameters\n",
        "Now we will tune the hyperparameters of our RandomForestClassifier and attempt to walk the line between underfitting and overfitting. We can use sklearn’s RandmoizedSearchCV to search the hyperparameters in our param_distributions dictionary."
      ]
    },
    {
      "cell_type": "code",
      "metadata": {
        "colab": {
          "base_uri": "https://localhost:8080/"
        },
        "id": "S0ua5Z0PAUqi",
        "outputId": "1589d7ab-94be-4eec-a0c8-ede9ed5cc5c1"
      },
      "source": [
        "from sklearn.model_selection import RandomizedSearchCV\n",
        "param_distributions = {\n",
        "    'max_depth':[1, 2, 3, 4, 5],\n",
        "    'n_estimators': [10, 25, 50, 100, 150, 200]}\n",
        "search = RandomizedSearchCV(estimator = RandomForestClassifier(), param_distributions = param_distributions, n_iter=100, scoring='precision', n_jobs=-1, cv=10, verbose=10, return_train_score=True)\n",
        " \n",
        "search.fit(X_train, y_train)"
      ],
      "execution_count": 30,
      "outputs": [
        {
          "output_type": "stream",
          "text": [
            "/usr/local/lib/python3.7/dist-packages/sklearn/model_selection/_search.py:281: UserWarning: The total space of parameters 30 is smaller than n_iter=100. Running 30 iterations. For exhaustive searches, use GridSearchCV.\n",
            "  % (grid_size, self.n_iter, grid_size), UserWarning)\n",
            "[Parallel(n_jobs=-1)]: Using backend LokyBackend with 2 concurrent workers.\n",
            "[Parallel(n_jobs=-1)]: Done   1 tasks      | elapsed:    0.1s\n",
            "[Parallel(n_jobs=-1)]: Batch computation too fast (0.0786s.) Setting batch_size=2.\n",
            "[Parallel(n_jobs=-1)]: Done   4 tasks      | elapsed:    0.2s\n"
          ],
          "name": "stderr"
        },
        {
          "output_type": "stream",
          "text": [
            "Fitting 10 folds for each of 30 candidates, totalling 300 fits\n"
          ],
          "name": "stdout"
        },
        {
          "output_type": "stream",
          "text": [
            "[Parallel(n_jobs=-1)]: Done  14 tasks      | elapsed:    0.7s\n",
            "[Parallel(n_jobs=-1)]: Done  24 tasks      | elapsed:    1.5s\n",
            "[Parallel(n_jobs=-1)]: Done  38 tasks      | elapsed:    3.9s\n",
            "[Parallel(n_jobs=-1)]: Done  52 tasks      | elapsed:    8.3s\n",
            "[Parallel(n_jobs=-1)]: Batch computation too slow (2.1065s.) Setting batch_size=1.\n",
            "[Parallel(n_jobs=-1)]: Done  64 tasks      | elapsed:   11.1s\n",
            "[Parallel(n_jobs=-1)]: Done  74 tasks      | elapsed:   11.7s\n",
            "[Parallel(n_jobs=-1)]: Done  85 tasks      | elapsed:   12.9s\n",
            "[Parallel(n_jobs=-1)]: Done  96 tasks      | elapsed:   14.8s\n",
            "[Parallel(n_jobs=-1)]: Done 109 tasks      | elapsed:   19.0s\n",
            "[Parallel(n_jobs=-1)]: Done 122 tasks      | elapsed:   23.5s\n",
            "[Parallel(n_jobs=-1)]: Done 137 tasks      | elapsed:   24.4s\n",
            "[Parallel(n_jobs=-1)]: Done 152 tasks      | elapsed:   26.4s\n",
            "[Parallel(n_jobs=-1)]: Done 169 tasks      | elapsed:   32.0s\n",
            "[Parallel(n_jobs=-1)]: Done 186 tasks      | elapsed:   37.0s\n",
            "[Parallel(n_jobs=-1)]: Done 205 tasks      | elapsed:   38.8s\n",
            "[Parallel(n_jobs=-1)]: Done 224 tasks      | elapsed:   43.6s\n",
            "[Parallel(n_jobs=-1)]: Done 245 tasks      | elapsed:   51.3s\n",
            "[Parallel(n_jobs=-1)]: Done 266 tasks      | elapsed:   53.3s\n",
            "[Parallel(n_jobs=-1)]: Done 289 tasks      | elapsed:  1.0min\n",
            "[Parallel(n_jobs=-1)]: Done 300 out of 300 | elapsed:  1.1min finished\n"
          ],
          "name": "stderr"
        },
        {
          "output_type": "execute_result",
          "data": {
            "text/plain": [
              "RandomizedSearchCV(cv=10, error_score=nan,\n",
              "                   estimator=RandomForestClassifier(bootstrap=True,\n",
              "                                                    ccp_alpha=0.0,\n",
              "                                                    class_weight=None,\n",
              "                                                    criterion='gini',\n",
              "                                                    max_depth=None,\n",
              "                                                    max_features='auto',\n",
              "                                                    max_leaf_nodes=None,\n",
              "                                                    max_samples=None,\n",
              "                                                    min_impurity_decrease=0.0,\n",
              "                                                    min_impurity_split=None,\n",
              "                                                    min_samples_leaf=1,\n",
              "                                                    min_samples_split=2,\n",
              "                                                    min_weight_fraction_leaf=0.0,\n",
              "                                                    n_estimators=100,\n",
              "                                                    n_jobs=None,\n",
              "                                                    oob_score=False,\n",
              "                                                    random_state=None,\n",
              "                                                    verbose=0,\n",
              "                                                    warm_start=False),\n",
              "                   iid='deprecated', n_iter=100, n_jobs=-1,\n",
              "                   param_distributions={'max_depth': [1, 2, 3, 4, 5],\n",
              "                                        'n_estimators': [10, 25, 50, 100, 150,\n",
              "                                                         200]},\n",
              "                   pre_dispatch='2*n_jobs', random_state=None, refit=True,\n",
              "                   return_train_score=True, scoring='precision', verbose=10)"
            ]
          },
          "metadata": {
            "tags": []
          },
          "execution_count": 30
        }
      ]
    },
    {
      "cell_type": "markdown",
      "metadata": {
        "id": "sRX2gbUfBNcI"
      },
      "source": [
        "## We can use search.best_estimator_ to see which model has the highest precision score"
      ]
    },
    {
      "cell_type": "code",
      "metadata": {
        "colab": {
          "base_uri": "https://localhost:8080/"
        },
        "id": "XtHa4ycBAhX7",
        "outputId": "1fbfe733-4719-4cb4-d7e0-2005b90c37fe"
      },
      "source": [
        "best_model = search.best_estimator_\n",
        "best_model"
      ],
      "execution_count": 31,
      "outputs": [
        {
          "output_type": "execute_result",
          "data": {
            "text/plain": [
              "RandomForestClassifier(bootstrap=True, ccp_alpha=0.0, class_weight=None,\n",
              "                       criterion='gini', max_depth=5, max_features='auto',\n",
              "                       max_leaf_nodes=None, max_samples=None,\n",
              "                       min_impurity_decrease=0.0, min_impurity_split=None,\n",
              "                       min_samples_leaf=1, min_samples_split=2,\n",
              "                       min_weight_fraction_leaf=0.0, n_estimators=25,\n",
              "                       n_jobs=None, oob_score=False, random_state=None,\n",
              "                       verbose=0, warm_start=False)"
            ]
          },
          "metadata": {
            "tags": []
          },
          "execution_count": 31
        }
      ]
    },
    {
      "cell_type": "markdown",
      "metadata": {
        "id": "nKcFzN6kBXmT"
      },
      "source": [
        "## From the model description we can see that a RandomForestClassifier with a max_depth of 5 and 25 estimators is our optimal model. Now we can run our analysis function"
      ]
    },
    {
      "cell_type": "code",
      "metadata": {
        "colab": {
          "base_uri": "https://localhost:8080/",
          "height": 1000
        },
        "id": "NHTm3nMzBQf4",
        "outputId": "914abdae-d0a0-4930-aa22-d5fe1dc9dc44"
      },
      "source": [
        "model_analysis(best_model, X_test, y_test)"
      ],
      "execution_count": 32,
      "outputs": [
        {
          "output_type": "stream",
          "text": [
            "/usr/local/lib/python3.7/dist-packages/seaborn/distributions.py:2557: FutureWarning: `distplot` is a deprecated function and will be removed in a future version. Please adapt your code to use either `displot` (a figure-level function with similar flexibility) or `histplot` (an axes-level function for histograms).\n",
            "  warnings.warn(msg, FutureWarning)\n"
          ],
          "name": "stderr"
        },
        {
          "output_type": "display_data",
          "data": {
            "image/png": "[encoded data removed]",
            "text/plain": [
              "<Figure size 1080x720 with 1 Axes>"
            ]
          },
          "metadata": {
            "tags": [],
            "needs_background": "dark"
          }
        },
        {
          "output_type": "stream",
          "text": [
            "\n",
            "\n",
            "               precision    recall  f1-score   support\n",
            "\n",
            " 0-Poisonous       1.00      0.98      0.99      1175\n",
            "    1-Edible       0.98      1.00      0.99      1263\n",
            "\n",
            "    accuracy                           0.99      2438\n",
            "   macro avg       0.99      0.99      0.99      2438\n",
            "weighted avg       0.99      0.99      0.99      2438\n",
            "\n"
          ],
          "name": "stdout"
        },
        {
          "output_type": "display_data",
          "data": {
            "image/png": "[encoded data removed]",
            "text/plain": [
              "<Figure size 1080x720 with 2 Axes>"
            ]
          },
          "metadata": {
            "tags": [],
            "needs_background": "light"
          }
        },
        {
          "output_type": "execute_result",
          "data": {
            "text/html": [
              "<div>\n",
              "<style scoped>\n",
              "    .dataframe tbody tr th:only-of-type {\n",
              "        vertical-align: middle;\n",
              "    }\n",
              "\n",
              "    .dataframe tbody tr th {\n",
              "        vertical-align: top;\n",
              "    }\n",
              "\n",
              "    .dataframe thead th {\n",
              "        text-align: right;\n",
              "    }\n",
              "</style>\n",
              "<table border=\"1\" class=\"dataframe\">\n",
              "  <thead>\n",
              "    <tr style=\"text-align: right;\">\n",
              "      <th></th>\n",
              "      <th>Predicted Poison</th>\n",
              "      <th>Predicted Edible</th>\n",
              "    </tr>\n",
              "  </thead>\n",
              "  <tbody>\n",
              "    <tr>\n",
              "      <th>Actual Poison</th>\n",
              "      <td>1154</td>\n",
              "      <td>21</td>\n",
              "    </tr>\n",
              "    <tr>\n",
              "      <th>Actual Edible</th>\n",
              "      <td>0</td>\n",
              "      <td>1263</td>\n",
              "    </tr>\n",
              "  </tbody>\n",
              "</table>\n",
              "</div>"
            ],
            "text/plain": [
              "               Predicted Poison  Predicted Edible\n",
              "Actual Poison              1154                21\n",
              "Actual Edible                 0              1263"
            ]
          },
          "metadata": {
            "tags": []
          },
          "execution_count": 32
        }
      ]
    },
    {
      "cell_type": "code",
      "metadata": {
        "id": "QBc3PrmnBvQs"
      },
      "source": [
        ""
      ],
      "execution_count": null,
      "outputs": []
    }
  ]
}